{
  "nbformat": 4,
  "nbformat_minor": 0,
  "metadata": {
    "colab": {
      "provenance": [],
      "authorship_tag": "ABX9TyOvoHttcvolIUy7sjPK3Zxv",
      "include_colab_link": true
    },
    "kernelspec": {
      "name": "python3",
      "display_name": "Python 3"
    },
    "language_info": {
      "name": "python"
    }
  },
  "cells": [
    {
      "cell_type": "markdown",
      "metadata": {
        "id": "view-in-github",
        "colab_type": "text"
      },
      "source": [
        "<a href=\"https://colab.research.google.com/github/Sheezamalik/PIAIC_PROJECTS-/blob/main/password_genrative_project7.ipynb\" target=\"_parent\"><img src=\"https://colab.research.google.com/assets/colab-badge.svg\" alt=\"Open In Colab\"/></a>"
      ]
    },
    {
      "cell_type": "markdown",
      "source": [
        "## password genrative program"
      ],
      "metadata": {
        "id": "jjuDmNlAfULt"
      }
    },
    {
      "cell_type": "code",
      "source": [
        "import random\n",
        "import string\n",
        "\n",
        "def generate_password(length = 16):\n",
        "  characters = string.ascii_letters + string.digits + string.punctuation\n",
        "  passwords = ''.join(random.choice(characters) for _ in range(length))\n",
        "  return passwords\n",
        "length = int(input(\"\\n Enter your password lenght\"))\n",
        "passwords = generate_password(length)\n",
        "print(f\"your password is\\n:{passwords}\")\n"
      ],
      "metadata": {
        "colab": {
          "base_uri": "https://localhost:8080/"
        },
        "id": "mXb5cDm2fb9W",
        "outputId": "27ab77ad-e35f-4a6b-ce73-e8df6a69bb13"
      },
      "execution_count": 14,
      "outputs": [
        {
          "output_type": "stream",
          "name": "stdout",
          "text": [
            "\n",
            " Enter your password lenght9\n",
            "your password is\n",
            ":t6p;vh&%y\n"
          ]
        }
      ]
    }
  ]
}