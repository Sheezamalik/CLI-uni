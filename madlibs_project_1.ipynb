{
  "nbformat": 4,
  "nbformat_minor": 0,
  "metadata": {
    "colab": {
      "provenance": [],
      "authorship_tag": "ABX9TyNqXqQtqUF79FH2JFM88DTy",
      "include_colab_link": true
    },
    "kernelspec": {
      "name": "python3",
      "display_name": "Python 3"
    },
    "language_info": {
      "name": "python"
    }
  },
  "cells": [
    {
      "cell_type": "markdown",
      "metadata": {
        "id": "view-in-github",
        "colab_type": "text"
      },
      "source": [
        "<a href=\"https://colab.research.google.com/github/Sheezamalik/CLI-uni/blob/main/madlibs_project_1.ipynb\" target=\"_parent\"><img src=\"https://colab.research.google.com/assets/colab-badge.svg\" alt=\"Open In Colab\"/></a>"
      ]
    },
    {
      "cell_type": "markdown",
      "source": [
        "# ***madlib project***"
      ],
      "metadata": {
        "id": "1OCtITwTK8Nx"
      }
    },
    {
      "cell_type": "code",
      "source": [
        "#madlibs project\n",
        "name = input(\"enter your name\")\n",
        "age = int(input(\"enter your age\"))\n",
        "programing_language = input(\"enter your language ,eg; python , java , c++\")\n",
        "#story print\n",
        "print( \" \\n Here the my madlib story game!\")\n",
        "print(f\"my name is {name} ,and my age is {age} ,and my favrt programing language is {programing_language} , and now am learning on it! \")\n",
        "\n",
        "\n"
      ],
      "metadata": {
        "colab": {
          "base_uri": "https://localhost:8080/"
        },
        "id": "tzS3P-1ZLHEe",
        "outputId": "35aa0c3c-e56e-4207-82bd-ae1c73ea9572"
      },
      "execution_count": null,
      "outputs": [
        {
          "output_type": "stream",
          "name": "stdout",
          "text": [
            "enter your namesheeza\n",
            "enter your age20\n",
            "enter your language ,eg; python , java , c++python\n",
            " \n",
            " Here the my madlib story game!\n",
            "my name is sheeza ,and my age is 20 ,and my favrt programing language is python , and now am learning on it! \n"
          ]
        }
      ]
    }
  ]
}