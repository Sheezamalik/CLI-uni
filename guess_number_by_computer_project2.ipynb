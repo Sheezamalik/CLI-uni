{
  "nbformat": 4,
  "nbformat_minor": 0,
  "metadata": {
    "colab": {
      "provenance": [],
      "authorship_tag": "ABX9TyNBK91QoBgDuI5IGjZhie2n",
      "include_colab_link": true
    },
    "kernelspec": {
      "name": "python3",
      "display_name": "Python 3"
    },
    "language_info": {
      "name": "python"
    }
  },
  "cells": [
    {
      "cell_type": "markdown",
      "metadata": {
        "id": "view-in-github",
        "colab_type": "text"
      },
      "source": [
        "<a href=\"https://colab.research.google.com/github/Sheezamalik/CLI-uni/blob/main/guess_number_by_computer_project2.ipynb\" target=\"_parent\"><img src=\"https://colab.research.google.com/assets/colab-badge.svg\" alt=\"Open In Colab\"/></a>"
      ]
    },
    {
      "cell_type": "code",
      "execution_count": null,
      "metadata": {
        "colab": {
          "base_uri": "https://localhost:8080/"
        },
        "id": "r_g1ekfUSHig",
        "outputId": "b315d6aa-45d5-439e-9695-42320593ead1"
      },
      "outputs": [
        {
          "output_type": "stream",
          "name": "stdout",
          "text": [
            "guess the number:7\n",
            "too low\n",
            "guess the number:34\n",
            "too high\n",
            "guess the number:24\n",
            "too high\n",
            "guess the number:12\n",
            "too low\n",
            "guess the number:17\n",
            "too low\n",
            "guess the number:1\n",
            "too low\n",
            "guess the number:19\n",
            "too high\n",
            "guess the number:20\n",
            "too high\n",
            "guess the number:18\n",
            "you won\n"
          ]
        }
      ],
      "source": [
        "#guess the number\n",
        "import random\n",
        "orignal_number = random.randint(0,100)\n",
        "while True:\n",
        "    guess = int(input(\"guess the number:\"))\n",
        "    if guess > orignal_number:\n",
        "             print(\"too high\")\n",
        "    elif guess < orignal_number:\n",
        "             print(\"too low\")\n",
        "    else:\n",
        "             print(\"you won\")\n",
        "             break\n"
      ]
    }
  ]
}