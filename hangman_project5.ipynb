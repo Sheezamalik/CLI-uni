{
  "nbformat": 4,
  "nbformat_minor": 0,
  "metadata": {
    "colab": {
      "provenance": [],
      "authorship_tag": "ABX9TyP+dy2YBZn2nWJnDgpET7RV",
      "include_colab_link": true
    },
    "kernelspec": {
      "name": "python3",
      "display_name": "Python 3"
    },
    "language_info": {
      "name": "python"
    }
  },
  "cells": [
    {
      "cell_type": "markdown",
      "metadata": {
        "id": "view-in-github",
        "colab_type": "text"
      },
      "source": [
        "<a href=\"https://colab.research.google.com/github/Sheezamalik/PIAIC_PROJECTS-/blob/main/hangman_project5.ipynb\" target=\"_parent\"><img src=\"https://colab.research.google.com/assets/colab-badge.svg\" alt=\"Open In Colab\"/></a>"
      ]
    },
    {
      "cell_type": "markdown",
      "source": [
        "# hangman game"
      ],
      "metadata": {
        "id": "qSlDmkwPBzjj"
      }
    },
    {
      "cell_type": "code",
      "source": [
        "import random\n",
        "word =[\"apple\",\"python\",\"colab\",\"table\"]\n",
        "word = random.choice(word)\n",
        "guessed_letters = []\n",
        "attempts = 7\n",
        "\n",
        "print(\"welcome to hangman game!\")\n",
        "while attempts > 0:\n",
        "    display = \"\"\n",
        "    for letter in word:\n",
        "      if letter in guessed_letters:\n",
        "         display += letter +\"\"\n",
        "      else:\n",
        "         display+\"_\"\n",
        "    print(\"\\nWord:\", display.strip())\n",
        "    guess = input(\"\\n\" \"enter your letter\").lower()\n",
        "    if guess in guessed_letters:\n",
        "      print(\"you already guess the latter\")\n",
        "      continue\n",
        "\n",
        "    guessed_letters.append(guess)\n",
        "\n",
        "    if guess in word:\n",
        "     print(\"good your guess is correct\")\n",
        "    else:\n",
        "     attempts-=1\n",
        "     print(f\"your rammining {attempts} attempts left\")\n",
        "    if all(letter in guessed_letters for letter in word ):\n",
        "     print(\"\\n\", \"o great you win the game\",word)\n",
        "     break\n",
        "\n",
        "\n",
        " #over game condition\n",
        "    if attempts == 0:\n",
        "       print(\"\\nGame over! The word was:\", word)\n",
        ""
      ],
      "metadata": {
        "colab": {
          "base_uri": "https://localhost:8080/"
        },
        "id": "2ZPKfdJmv0gE",
        "outputId": "5c106c68-0169-4695-b96a-e2435a64cf54"
      },
      "execution_count": 26,
      "outputs": [
        {
          "output_type": "stream",
          "name": "stdout",
          "text": [
            "welcome to hangman game!\n",
            "\n",
            "Word: \n",
            "\n",
            "enter your letterp\n",
            "good your guess is correct\n",
            "\n",
            "Word: p\n",
            "\n",
            "enter your letterh\n",
            "good your guess is correct\n",
            "\n",
            "Word: ph\n",
            "\n",
            "enter your letters\n",
            "your rammining 6 attempts left\n",
            "\n",
            "Word: ph\n",
            "\n",
            "enter your letterh\n",
            "you already guess the latter\n",
            "\n",
            "Word: ph\n",
            "\n",
            "enter your lettert\n",
            "good your guess is correct\n",
            "\n",
            "Word: pth\n",
            "\n",
            "enter your lettery\n",
            "good your guess is correct\n",
            "\n",
            "Word: pyth\n",
            "\n",
            "enter your lettero\n",
            "good your guess is correct\n",
            "\n",
            "Word: pytho\n",
            "\n",
            "enter your lettern\n",
            "good your guess is correct\n",
            "\n",
            " o great you win the game python\n"
          ]
        }
      ]
    }
  ]
}