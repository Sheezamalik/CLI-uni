{
  "nbformat": 4,
  "nbformat_minor": 0,
  "metadata": {
    "colab": {
      "provenance": [],
      "authorship_tag": "ABX9TyPVKqGWqwyJYLMpkga4Cj19",
      "include_colab_link": true
    },
    "kernelspec": {
      "name": "python3",
      "display_name": "Python 3"
    },
    "language_info": {
      "name": "python"
    }
  },
  "cells": [
    {
      "cell_type": "markdown",
      "metadata": {
        "id": "view-in-github",
        "colab_type": "text"
      },
      "source": [
        "<a href=\"https://colab.research.google.com/github/Sheezamalik/CLI-uni/blob/main/guess_number_user_project3.ipynb\" target=\"_parent\"><img src=\"https://colab.research.google.com/assets/colab-badge.svg\" alt=\"Open In Colab\"/></a>"
      ]
    },
    {
      "cell_type": "markdown",
      "source": [
        "# **guess number by user**"
      ],
      "metadata": {
        "id": "3aJWlYMAU0FO"
      }
    },
    {
      "cell_type": "code",
      "source": [
        "#guess number by user\n",
        "import random\n",
        "secret_number = random.randint(1,10)\n",
        "print(\"welome to guess game\")\n",
        "print(\"I am thinking of a number between 1 and 10.\")\n",
        "while True:\n",
        "   guess = int (input(\"enter your number\"))\n",
        "   if secret_number > guess:\n",
        "       print(\"your guess is too low\")\n",
        "   elif secret_number < guess:\n",
        "       print(\"your guess is too high\")\n",
        "   else:\n",
        "       print(\"good job! you guessed my number\")\n",
        "       break"
      ],
      "metadata": {
        "id": "DyZPoSRAU5Pp",
        "colab": {
          "base_uri": "https://localhost:8080/"
        },
        "outputId": "2790ee50-c1ef-4784-85fe-c7c0e14b77b4"
      },
      "execution_count": 8,
      "outputs": [
        {
          "output_type": "stream",
          "name": "stdout",
          "text": [
            "welome to guess game\n",
            "I am thinking of a number between 1 and 10.\n",
            "enter your number8\n",
            "your guess is too high\n",
            "enter your number6\n",
            "your guess is too low\n",
            "enter your number7\n",
            "good job! you guessed my number\n"
          ]
        }
      ]
    }
  ]
}